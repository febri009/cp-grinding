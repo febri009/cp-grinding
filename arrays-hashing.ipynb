{
 "cells": [
  {
   "cell_type": "markdown",
   "metadata": {},
   "source": [
    "EASY"
   ]
  },
  {
   "cell_type": "markdown",
   "metadata": {},
   "source": [
    "1. Two Sum (HASH MAP (OPTIMAL SOLUTION))\n",
    "Given an array of integers nums and an integer target, return indices of the two numbers such that they add up to target.\n",
    "\n",
    "You may assume that each input would have exactly one solution, and you may not use the same element twice.\n",
    "\n",
    "You can return the answer in any order.\n",
    "\n",
    " \n",
    "\n",
    "Example 1:\n",
    "\n",
    "Input: nums = [2,7,11,15], target = 9\n",
    "Output: [0,1]\n",
    "Explanation: Because nums[0] + nums[1] == 9, we return [0, 1].\n",
    "Example 2:\n",
    "\n",
    "Input: nums = [3,2,4], target = 6\n",
    "Output: [1,2]\n",
    "Example 3:\n",
    "\n",
    "Input: nums = [3,3], target = 6\n",
    "Output: [0,1]\n",
    " \n",
    "\n",
    "Constraints:\n",
    "\n",
    "2 <= nums.length <= 104\n",
    "-109 <= nums[i] <= 109\n",
    "-109 <= target <= 109\n",
    "Only one valid answer exists.\n",
    " \n",
    "\n",
    "Follow-up: Can you come up with an algorithm that is less than O(n2) time complexity?"
   ]
  },
  {
   "cell_type": "code",
   "execution_count": null,
   "metadata": {},
   "outputs": [],
   "source": [
    "class Solution:\n",
    "    def twoSum(self, nums: List[int], target: int) -> List[int]:\n",
    "        num_map = {}\n",
    "        for i, num in enumerate(nums):\n",
    "            complement = target - num\n",
    "            if complement in num_map:\n",
    "                return [num_map[complement], i]\n",
    "            num_map[num] = i\n",
    "        return []"
   ]
  },
  {
   "cell_type": "markdown",
   "metadata": {},
   "source": [
    "Static Arrays "
   ]
  },
  {
   "cell_type": "markdown",
   "metadata": {},
   "source": [
    "Remove Duplicates from Sorted Array\n",
    "\n",
    "Given an integer array nums sorted in non-decreasing order, remove the duplicates in-place such that each unique element appears only once. The relative order of the elements should be kept the same. Then return the number of unique elements in nums.\n",
    "\n",
    "Consider the number of unique elements of nums to be k, to get accepted, you need to do the following things:\n",
    "\n",
    "Change the array nums such that the first k elements of nums contain the unique elements in the order they were present in nums initially. The remaining elements of nums are not important as well as the size of nums.\n",
    "Return k.\n",
    "Custom Judge:\n",
    "\n",
    "The judge will test your solution with the following code:\n",
    "\n",
    "int[] nums = [...]; // Input array\n",
    "int[] expectedNums = [...]; // The expected answer with correct length\n",
    "\n",
    "int k = removeDuplicates(nums); // Calls your implementation\n",
    "\n",
    "assert k == expectedNums.length;\n",
    "for (int i = 0; i < k; i++) {\n",
    "    assert nums[i] == expectedNums[i];\n",
    "}\n",
    "If all assertions pass, then your solution will be accepted.\n",
    "\n",
    " \n",
    "\n",
    "Example 1:\n",
    "\n",
    "Input: nums = [1,1,2]\n",
    "Output: 2, nums = [1,2,_]\n",
    "Explanation: Your function should return k = 2, with the first two elements of nums being 1 and 2 respectively.\n",
    "It does not matter what you leave beyond the returned k (hence they are underscores).\n",
    "Example 2:\n",
    "\n",
    "Input: nums = [0,0,1,1,1,2,2,3,3,4]\n",
    "Output: 5, nums = [0,1,2,3,4,_,_,_,_,_]\n",
    "Explanation: Your function should return k = 5, with the first five elements of nums being 0, 1, 2, 3, and 4 respectively.\n",
    "It does not matter what you leave beyond the returned k (hence they are underscores).\n",
    " \n",
    "\n",
    "Constraints:\n",
    "\n",
    "1 <= nums.length <= 3 * 104\n",
    "-100 <= nums[i] <= 100\n",
    "nums is sorted in non-decreasing order."
   ]
  },
  {
   "cell_type": "code",
   "execution_count": null,
   "metadata": {},
   "outputs": [],
   "source": [
    "class Solution:\n",
    "    def removeDuplicates(self, nums: List[int]) -> int:\n",
    "        n = len(nums)\n",
    "        if n == 0 or n == 1:\n",
    "            return n\n",
    "        \n",
    "        j = 0\n",
    "\n",
    "        for i in range(n-1):\n",
    "            if nums[i] != nums[i+1]:\n",
    "                nums[j] = nums[i]\n",
    "                j += 1\n",
    "        nums[j] = nums [n-1]\n",
    "\n",
    "        return j+1"
   ]
  }
 ],
 "metadata": {
  "kernelspec": {
   "display_name": "base",
   "language": "python",
   "name": "python3"
  },
  "language_info": {
   "codemirror_mode": {
    "name": "ipython",
    "version": 3
   },
   "file_extension": ".py",
   "mimetype": "text/x-python",
   "name": "python",
   "nbconvert_exporter": "python",
   "pygments_lexer": "ipython3",
   "version": "3.11.4"
  }
 },
 "nbformat": 4,
 "nbformat_minor": 2
}
